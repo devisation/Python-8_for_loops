{
 "cells": [
  {
   "cell_type": "markdown",
   "metadata": {},
   "source": [
    "1"
   ]
  },
  {
   "cell_type": "code",
   "execution_count": 1,
   "metadata": {},
   "outputs": [
    {
     "name": "stdout",
     "output_type": "stream",
     "text": [
      "Username ImNotCreative is available!\n",
      "Username jsutt is already taken. Please choose another username.\n",
      "Username Obama is available!\n",
      "Username Naruto is available!\n",
      "Username code_guy is already taken. Please choose another username.\n"
     ]
    }
   ],
   "source": [
    "current_users = [\n",
    "    'jsutt',\n",
    "    'code_guy',\n",
    "    'python4ever',\n",
    "    'real_jsutt',\n",
    "    'xxUserxx']\n",
    "\n",
    "new_users = [\n",
    "    'ImNotCreative',\n",
    "    'jsutt',\n",
    "    'Obama',\n",
    "    'Naruto',\n",
    "    'code_guy']\n",
    "\n",
    "for new_user in new_users:\n",
    "    taken_usernames = [u.lower() for u in current_users]\n",
    "    if new_user.lower() in taken_usernames:\n",
    "        print(f'Username {new_user} is already taken.', \n",
    "                'Please choose another username.')\n",
    "    else:\n",
    "        print(f'Username {new_user} is available!')"
   ]
  },
  {
   "cell_type": "markdown",
   "metadata": {},
   "source": [
    "2"
   ]
  },
  {
   "cell_type": "code",
   "execution_count": 4,
   "metadata": {},
   "outputs": [
    {
     "data": {
      "text/plain": [
       "'0.40'"
      ]
     },
     "execution_count": 4,
     "metadata": {},
     "output_type": "execute_result"
    }
   ],
   "source": [
    "# substring = attribute :\n",
    "# b = bumpy, s = smooth\n",
    "# r = red, y = yellow, g = green\n",
    "bag_of_marbles = ['sr', 'br', 'br','br','br', 'by', 'by', 'sy', 'bg', 'sg']\n",
    "\n",
    "def color_probability(marble_color, marble_texture):\n",
    "    clr = {'red': 'r', 'yellow': 'y', 'green': 'g'}[marble_color]\n",
    "    txtr = {'bumpy': 'b', 'smooth': 's'}[marble_texture]\n",
    "    marble_count = bag_of_marbles.count(txtr+clr)\n",
    "    total_marbles = len(bag_of_marbles)\n",
    "    probability = marble_count / total_marbles\n",
    "    return f'{probability:.2f}'\n",
    "\n",
    "color_probability('red', 'bumpy')"
   ]
  },
  {
   "cell_type": "markdown",
   "metadata": {},
   "source": [
    "3"
   ]
  },
  {
   "cell_type": "code",
   "execution_count": 25,
   "metadata": {},
   "outputs": [
    {
     "name": "stdout",
     "output_type": "stream",
     "text": [
      "The person is an adult\n"
     ]
    }
   ],
   "source": [
    "age = 20\n",
    "\n",
    "if age < 2:\n",
    "    print(\"The person is a baby\")\n",
    "elif age < 4:\n",
    "    print(\"The person is a toddler\")\n",
    "elif age < 13:\n",
    "    print(\"The person is a kid\")\n",
    "elif age < 20:\n",
    "    print(\"The person is a teenager\")\n",
    "elif age < 65:\n",
    "    print(\"The person is an adult\")\n",
    "else:\n",
    "    print(\"The person is an elder\")\n"
   ]
  },
  {
   "cell_type": "markdown",
   "metadata": {},
   "source": [
    "4"
   ]
  },
  {
   "cell_type": "code",
   "execution_count": 26,
   "metadata": {},
   "outputs": [
    {
     "data": {
      "text/plain": [
       "3"
      ]
     },
     "execution_count": 26,
     "metadata": {},
     "output_type": "execute_result"
    }
   ],
   "source": [
    "data = [[2, 5], [3, 4], [8, 7]]\n",
    "\n",
    "def process_data(dat):\n",
    "    vals_to_multiply = [val[0] - val[1] for val in dat]\n",
    "    out = 1\n",
    "    for x in vals_to_multiply:\n",
    "        out *= x\n",
    "    return out\n",
    "\n",
    "process_data(data)"
   ]
  },
  {
   "cell_type": "markdown",
   "metadata": {},
   "source": [
    "5"
   ]
  },
  {
   "cell_type": "code",
   "execution_count": 27,
   "metadata": {},
   "outputs": [
    {
     "data": {
      "text/plain": [
       "{'Grae Drake': 98110,\n",
       " 'Bethany Kok': None,\n",
       " 'Alex Nussbacher': 94101,\n",
       " 'Darrell Silver': 11201}"
      ]
     },
     "execution_count": 27,
     "metadata": {},
     "output_type": "execute_result"
    }
   ],
   "source": [
    "shipping_list = [[\"Grae Drake\", 98110], \n",
    "                 [\"Bethany Kok\"], \n",
    "                 [\"Alex Nussbacher\", 94101], \n",
    "                 [\"Darrell Silver\", 11201]]\n",
    "\n",
    "def user_contacts(list_of_contacts):\n",
    "    dict = {}\n",
    "    for contact in list_of_contacts:\n",
    "        if len(contact) == 1:\n",
    "            dict.update({contact[0]: None})\n",
    "        else:\n",
    "            dict.update({contact[0]: contact[1]})\n",
    "    return dict\n",
    "\n",
    "user_contacts(shipping_list)"
   ]
  },
  {
   "cell_type": "markdown",
   "metadata": {},
   "source": []
  }
 ],
 "metadata": {
  "interpreter": {
   "hash": "23721f7ccdba8d10dbed52de1ec10dc723c7659d2c7ca391d31ecfb7851a1907"
  },
  "kernelspec": {
   "display_name": "Python 3.9.12 ('DataSci')",
   "language": "python",
   "name": "python3"
  },
  "language_info": {
   "codemirror_mode": {
    "name": "ipython",
    "version": 3
   },
   "file_extension": ".py",
   "mimetype": "text/x-python",
   "name": "python",
   "nbconvert_exporter": "python",
   "pygments_lexer": "ipython3",
   "version": "3.9.12"
  },
  "orig_nbformat": 4
 },
 "nbformat": 4,
 "nbformat_minor": 2
}
